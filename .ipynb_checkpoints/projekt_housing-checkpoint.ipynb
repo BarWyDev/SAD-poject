{
  "cells": [
    {
      "cell_type": "raw",
      "metadata": {
        "vscode": {
          "languageId": "raw"
        }
      },
      "source": [
        "# Projekt końcowy: Analiza cen nieruchomości w Kalifornii\n",
        "\n",
        "**Autorzy:** [Zespół projektowy]  \n",
        "**Data:** [Data]\n",
        "\n",
        "---\n"
      ]
    },
    {
      "cell_type": "raw",
      "metadata": {
        "vscode": {
          "languageId": "raw"
        }
      },
      "source": [
        "## 1. Wprowadzenie (2 punkty)\n",
        "\n",
        "### Opis zbioru danych\n",
        "\n",
        "W niniejszym projekcie analizujemy zbiór danych **California Housing Prices**, który zawiera informacje o medianie wartości domów dla różnych dzielnic w Kalifornii. Dane pochodzą z spisu powszechnego z 1990 roku i są powszechnie wykorzystywane w analizie danych oraz uczeniu maszynowym.\n",
        "\n",
        "### Źródło danych\n",
        "\n",
        "Zbiór danych pochodzi z repozytorium kalifornijskiego spisu mieszkaniowego i jest dostępny na platformie Kaggle: [California Housing Prices](https://www.kaggle.com/datasets/camnugent/california-housing-prices).\n",
        "\n",
        "### Pytania badawcze\n",
        "\n",
        "W ramach naszej analizy eksploracyjnej chcemy odpowiedzieć na następujące pytania:\n",
        "\n",
        "1. **Jakie są główne czynniki wpływające na ceny nieruchomości w Kalifornii?**\n",
        "2. **Czy lokalizacja geograficzna (longitude, latitude) ma znaczący wpływ na wartość nieruchomości?**\n",
        "3. **Jak dochód mieszkańców (median_income) koreluje z cenami domów?**\n",
        "4. **Czy istnieją znaczące różnice w cenach nieruchomości w zależności od bliskości oceanu?**\n",
        "5. **Jakie charakterystyki mieszkaniowe (wiek, liczba pokoi, liczba sypialni) mają największy wpływ na cenę?**\n",
        "\n",
        "### Opis zmiennych\n",
        "\n",
        "Zbiór danych zawiera następujące zmienne:\n",
        "- **median_house_value** - mediana wartości domów (zmienna zależna)\n",
        "- **longitude, latitude** - współrzędne geograficzne\n",
        "- **housing_median_age** - mediana wieku domów w dzielnicy\n",
        "- **total_rooms** - całkowita liczba pokoi\n",
        "- **total_bedrooms** - całkowita liczba sypialni\n",
        "- **population** - populacja dzielnicy\n",
        "- **households** - liczba gospodarstw domowych\n",
        "- **median_income** - mediana dochodów (w dziesiątkach tysięcy dolarów)\n",
        "- **ocean_proximity** - bliskość oceanu (kategoryczna)\n"
      ]
    },
    {
      "cell_type": "code",
      "execution_count": 1,
      "metadata": {},
      "outputs": [
        {
          "ename": "ModuleNotFoundError",
          "evalue": "No module named 'pandas'",
          "output_type": "error",
          "traceback": [
            "\u001b[31m---------------------------------------------------------------------------\u001b[39m",
            "\u001b[31mModuleNotFoundError\u001b[39m                       Traceback (most recent call last)",
            "\u001b[36mCell\u001b[39m\u001b[36m \u001b[39m\u001b[32mIn[1]\u001b[39m\u001b[32m, line 2\u001b[39m\n\u001b[32m      1\u001b[39m \u001b[38;5;66;03m# Importowanie bibliotek\u001b[39;00m\n\u001b[32m----> \u001b[39m\u001b[32m2\u001b[39m \u001b[38;5;28;01mimport\u001b[39;00m\u001b[38;5;250m \u001b[39m\u001b[34;01mpandas\u001b[39;00m\u001b[38;5;250m \u001b[39m\u001b[38;5;28;01mas\u001b[39;00m\u001b[38;5;250m \u001b[39m\u001b[34;01mpd\u001b[39;00m\n\u001b[32m      3\u001b[39m \u001b[38;5;28;01mimport\u001b[39;00m\u001b[38;5;250m \u001b[39m\u001b[34;01mnumpy\u001b[39;00m\u001b[38;5;250m \u001b[39m\u001b[38;5;28;01mas\u001b[39;00m\u001b[38;5;250m \u001b[39m\u001b[34;01mnp\u001b[39;00m\n\u001b[32m      4\u001b[39m \u001b[38;5;28;01mimport\u001b[39;00m\u001b[38;5;250m \u001b[39m\u001b[34;01mmatplotlib\u001b[39;00m\u001b[34;01m.\u001b[39;00m\u001b[34;01mpyplot\u001b[39;00m\u001b[38;5;250m \u001b[39m\u001b[38;5;28;01mas\u001b[39;00m\u001b[38;5;250m \u001b[39m\u001b[34;01mplt\u001b[39;00m\n",
            "\u001b[31mModuleNotFoundError\u001b[39m: No module named 'pandas'"
          ]
        }
      ],
      "source": [
        "# Importowanie bibliotek\n",
        "import pandas as pd\n",
        "import numpy as np\n",
        "import matplotlib.pyplot as plt\n",
        "import seaborn as sns\n",
        "from scipy import stats\n",
        "import warnings\n",
        "warnings.filterwarnings('ignore')\n",
        "\n",
        "# Ustawienia wizualizacji\n",
        "plt.style.use('default')\n",
        "sns.set_palette('husl')\n",
        "plt.rcParams['figure.figsize'] = (10, 6)\n",
        "plt.rcParams['font.size'] = 12\n",
        "\n",
        "# Wczytanie danych\n",
        "df = pd.read_csv('housing.csv')\n",
        "\n",
        "print(\"Podstawowe informacje o zbiorze danych:\")\n",
        "print(f\"Liczba wierszy: {df.shape[0]}\")\n",
        "print(f\"Liczba kolumn: {df.shape[1]}\")\n",
        "print(\"\\nNazwy kolumn:\")\n",
        "print(df.columns.tolist())\n"
      ]
    },
    {
      "cell_type": "raw",
      "metadata": {
        "vscode": {
          "languageId": "raw"
        }
      },
      "source": [
        "## 2. Czyszczenie i porządkowanie danych (4 punkty)\n",
        "\n",
        "W tej sekcji przeprowadzimy diagnostykę danych, zidentyfikujemy braki, obserwacje odstające oraz błędy w danych.\n"
      ]
    },
    {
      "cell_type": "code",
      "execution_count": null,
      "metadata": {},
      "outputs": [],
      "source": [
        "# Podstawowa diagnostyka danych\n",
        "print(\"=== DIAGNOSTYKA DANYCH ===\")\n",
        "print(\"\\n1. Informacje o typach danych:\")\n",
        "print(df.info())\n",
        "\n",
        "print(\"\\n2. Podstawowe statystyki:\")\n",
        "print(df.describe())\n",
        "\n",
        "print(\"\\n3. Analiza braków danych:\")\n",
        "missing_data = df.isnull().sum()\n",
        "missing_percentage = (missing_data / len(df)) * 100\n",
        "\n",
        "missing_summary = pd.DataFrame({\n",
        "    'Braki': missing_data,\n",
        "    'Procent': missing_percentage\n",
        "})\n",
        "missing_summary = missing_summary[missing_summary['Braki'] > 0].sort_values('Braki', ascending=False)\n",
        "\n",
        "if len(missing_summary) > 0:\n",
        "    print(missing_summary)\n",
        "else:\n",
        "    print(\"Brak brakujących danych!\")\n"
      ]
    },
    {
      "cell_type": "raw",
      "metadata": {
        "vscode": {
          "languageId": "raw"
        }
      },
      "source": [
        "## 3. Wizualizacje (4 punkty)\n",
        "\n",
        "W tej sekcji przedstawimy 4-5 wizualizacji pokazujących kluczowe wzorce w danych.\n"
      ]
    },
    {
      "cell_type": "code",
      "execution_count": null,
      "metadata": {},
      "outputs": [],
      "source": [
        "# Wizualizacja 1: Rozkład cen nieruchomości według bliskości oceanu\n",
        "fig, axes = plt.subplots(1, 2, figsize=(15, 6))\n",
        "\n",
        "# Histogram cen\n",
        "df['median_house_value'].hist(bins=50, ax=axes[0], alpha=0.7, color='skyblue', edgecolor='black')\n",
        "axes[0].set_title('Rozkład cen nieruchomości')\n",
        "axes[0].set_xlabel('Mediana wartości domu ($)')\n",
        "axes[0].set_ylabel('Częstość')\n",
        "axes[0].axvline(df['median_house_value'].mean(), color='red', linestyle='--', \n",
        "                label=f'Średnia: ${df[\"median_house_value\"].mean():,.0f}')\n",
        "axes[0].legend()\n",
        "\n",
        "# Boxplot według bliskości oceanu\n",
        "sns.boxplot(data=df, x='ocean_proximity', y='median_house_value', ax=axes[1])\n",
        "axes[1].set_title('Ceny według bliskości oceanu')\n",
        "axes[1].set_xlabel('Bliskość oceanu')\n",
        "axes[1].set_ylabel('Mediana wartości domu ($)')\n",
        "axes[1].tick_params(axis='x', rotation=45)\n",
        "\n",
        "plt.tight_layout()\n",
        "plt.show()\n",
        "\n",
        "print(\"Wykres pokazuje rozkład cen i wyraźne różnice według bliskości oceanu.\")\n"
      ]
    },
    {
      "cell_type": "raw",
      "metadata": {
        "vscode": {
          "languageId": "raw"
        }
      },
      "source": [
        "## 4. Analiza opisowa (4 punkty)\n",
        "\n",
        "W tej sekcji przeprowadzimy szczegółową analizę opisową odnosząc się do postawionych pytań badawczych.\n"
      ]
    },
    {
      "cell_type": "code",
      "execution_count": null,
      "metadata": {},
      "outputs": [],
      "source": [
        "# Analiza 1: Statystyki opisowe według bliskości oceanu\n",
        "print(\"=== ANALIZA WEDŁUG BLISKOŚCI OCEANU ===\")\n",
        "\n",
        "ocean_stats = df.groupby('ocean_proximity')['median_house_value'].agg([\n",
        "    'count', 'mean', 'median', 'std', 'min', 'max'\n",
        "]).round(2)\n",
        "\n",
        "ocean_stats.columns = ['Liczba', 'Średnia', 'Mediana', 'Odch. std', 'Min', 'Max']\n",
        "print(ocean_stats)\n",
        "\n",
        "# Test ANOVA\n",
        "groups = [group['median_house_value'].values for name, group in df.groupby('ocean_proximity')]\n",
        "f_stat, p_value = stats.f_oneway(*groups)\n",
        "\n",
        "print(f\"\\nTEST ANOVA:\")\n",
        "print(f\"F-statystyka: {f_stat:.3f}\")\n",
        "print(f\"p-wartość: {p_value:.2e}\")\n",
        "print(\"\\nINTERPRETACJA: Test ANOVA potwierdza statystycznie istotne różnice między grupami.\")\n"
      ]
    }
  ],
  "metadata": {
    "kernelspec": {
      "display_name": "Python 3",
      "language": "python",
      "name": "python3"
    },
    "language_info": {
      "codemirror_mode": {
        "name": "ipython",
        "version": 3
      },
      "file_extension": ".py",
      "mimetype": "text/x-python",
      "name": "python",
      "nbconvert_exporter": "python",
      "pygments_lexer": "ipython3",
      "version": "3.13.0"
    }
  },
  "nbformat": 4,
  "nbformat_minor": 2
}
